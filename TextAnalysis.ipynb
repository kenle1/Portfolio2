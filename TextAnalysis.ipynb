{
 "cells": [
  {
   "cell_type": "code",
   "execution_count": 2,
   "id": "e437c544-005e-4d2f-9ee9-0e8fac694c64",
   "metadata": {},
   "outputs": [],
   "source": [
    "givenstrings=\"Lorem ipsum dolor! diam amet, consetetur Lorem magna. sed diam nonumy eirmod tempor. diam et labore? et diam magna. et diam amet.\""
   ]
  },
  {
   "cell_type": "code",
   "execution_count": 6,
   "id": "9b4375e3-cd91-4f2f-b422-9525cabef14b",
   "metadata": {},
   "outputs": [],
   "source": [
    "#Create class called TextAnalyzer to analyze text\n",
    "class TextAnalyzer(object):\n",
    "    #the __init__ method initializes the class with a 'text' paramer.\n",
    "    #store the provided 'text' as an instance variable\n",
    "    def __init__(self, text):\n",
    "        #remove punctation \n",
    "        formatedText = text.replace('.','').replace('!','').replace('?','').replace(',','')\n",
    "        #make text lowercase\n",
    "        formatedText = formatedText.lower()\n",
    "        self.fmtText = formatedText\n",
    "\n",
    "    def freqAll(self):\n",
    "        #split text into words\n",
    "        wordList = self.fmtText.split(' ')\n",
    "        \n",
    "        #Create dicationary\n",
    "        freqMap = {}\n",
    "        for word in set(wordList): #use set to remove duplicates in List\n",
    "            freqMap[word]=wordList.count(word)\n",
    "        return freqMap\n",
    "\n",
    "    def freqOf(self,word):\n",
    "        #get frequency map\n",
    "        freqDict = self.freqAll()\n",
    "        if word in freqDict:\n",
    "            return freqDict[word]\n",
    "        else:\n",
    "            return 0"
   ]
  },
  {
   "cell_type": "code",
   "execution_count": 8,
   "id": "9f9a15a6-aae9-4d5b-bb1d-5107bf925cdc",
   "metadata": {},
   "outputs": [],
   "source": [
    "#Create instance of TextAnalyzer Class\n",
    "analyzed = TextAnalyzer(givenstrings)"
   ]
  },
  {
   "cell_type": "code",
   "execution_count": 10,
   "id": "6b8ca22b-74cd-4c65-aaee-e76ccf44cc74",
   "metadata": {},
   "outputs": [
    {
     "name": "stdout",
     "output_type": "stream",
     "text": [
      "Formated Text: lorem ipsum dolor diam amet consetetur lorem magna sed diam nonumy eirmod tempor diam et labore et diam magna et diam amet\n"
     ]
    }
   ],
   "source": [
    "#Call function to convert data into Lowercase\n",
    "print(\"Formated Text:\", analyzed.fmtText)"
   ]
  },
  {
   "cell_type": "code",
   "execution_count": 11,
   "id": "6a07d8b4-e172-45dc-9f0f-90b14c367bf6",
   "metadata": {},
   "outputs": [
    {
     "name": "stdout",
     "output_type": "stream",
     "text": [
      "{'tempor': 1, 'nonumy': 1, 'diam': 5, 'dolor': 1, 'labore': 1, 'eirmod': 1, 'ipsum': 1, 'consetetur': 1, 'amet': 2, 'sed': 1, 'lorem': 2, 'magna': 2, 'et': 3}\n"
     ]
    }
   ],
   "source": [
    "#Call function that counts requency of all unique words\n",
    "freqMap = analyzed.freqAll()\n",
    "print(freqMap)"
   ]
  },
  {
   "cell_type": "code",
   "execution_count": 13,
   "id": "637646e2-a239-4e17-b4f0-d1c346b72a5b",
   "metadata": {},
   "outputs": [
    {
     "name": "stdout",
     "output_type": "stream",
     "text": [
      "The word lorem appears 2 times.\n"
     ]
    }
   ],
   "source": [
    "#Call functio that counts fequency of specific word\n",
    "word = \"lorem\"\n",
    "frequency = analyzed.freqOf(word)\n",
    "print(\"The word\",word,\"appears\",frequency,\"times.\")"
   ]
  },
  {
   "cell_type": "code",
   "execution_count": null,
   "id": "8467b09a-5e25-4f7e-8ab7-e60536abc278",
   "metadata": {},
   "outputs": [],
   "source": []
  }
 ],
 "metadata": {
  "kernelspec": {
   "display_name": "Python 3 (ipykernel)",
   "language": "python",
   "name": "python3"
  },
  "language_info": {
   "codemirror_mode": {
    "name": "ipython",
    "version": 3
   },
   "file_extension": ".py",
   "mimetype": "text/x-python",
   "name": "python",
   "nbconvert_exporter": "python",
   "pygments_lexer": "ipython3",
   "version": "3.10.12"
  }
 },
 "nbformat": 4,
 "nbformat_minor": 5
}
