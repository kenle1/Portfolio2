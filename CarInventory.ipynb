{
 "cells": [
  {
   "cell_type": "code",
   "execution_count": 1,
   "id": "aeda5a95-eed3-48fd-af66-b628bc5d6a21",
   "metadata": {},
   "outputs": [],
   "source": [
    "import matplotlib.pyplot as plt\n",
    "%matplotlib inline"
   ]
  },
  {
   "cell_type": "code",
   "execution_count": 5,
   "id": "e47f0d7c-caf9-43f2-a8ac-f7e397d790a6",
   "metadata": {},
   "outputs": [],
   "source": [
    "class Vehicle(object):\n",
    "    color = 'white'\n",
    "\n",
    "    #constructor\n",
    "    def __init__(self, max_speed, max_milage):\n",
    "        self.max_speed = max_speed\n",
    "        self.max_milage = max_milage\n",
    "\n",
    "    #method\n",
    "    def max_seat(self, seating_capacity):\n",
    "        self.seating_capacity = seating_capacity\n",
    "\n",
    "    def display_properties(self):\n",
    "        print(\"Properties of the Vehicle:\")\n",
    "        print(\"Color:\", self.color)\n",
    "        print(\"Max Speed:\", self.max_speed)\n",
    "        print(\"Max Milage:\", self.max_milage)\n",
    "        print(\"Max Capacity:\", self.seating_capacity)\n",
    "        "
   ]
  },
  {
   "cell_type": "code",
   "execution_count": 8,
   "id": "73969a76-b052-42cd-8ad3-a8d85d0a5b47",
   "metadata": {},
   "outputs": [
    {
     "name": "stdout",
     "output_type": "stream",
     "text": [
      "Properties of the Vehicle:\n",
      "Color: white\n",
      "Max Speed: 200\n",
      "Max Milage: 500000\n",
      "Max Capacity: 5\n"
     ]
    }
   ],
   "source": [
    "Prius = Vehicle(200, 500000)\n",
    "Prius.max_seat(5)\n",
    "Prius.display_properties()"
   ]
  },
  {
   "cell_type": "code",
   "execution_count": 9,
   "id": "864390c5-a7e2-45fe-8907-275d2c8aaaa0",
   "metadata": {},
   "outputs": [
    {
     "name": "stdout",
     "output_type": "stream",
     "text": [
      "Properties of the Vehicle:\n",
      "Color: white\n",
      "Max Speed: 180\n",
      "Max Milage: 75000\n",
      "Max Capacity: 4\n"
     ]
    }
   ],
   "source": [
    "Prius2 = Vehicle(180, 75000)\n",
    "Prius2.max_seat(4)\n",
    "Prius2.display_properties()"
   ]
  },
  {
   "cell_type": "code",
   "execution_count": null,
   "id": "6217ba49-dec9-47c4-bc34-573ad621974e",
   "metadata": {},
   "outputs": [],
   "source": []
  }
 ],
 "metadata": {
  "kernelspec": {
   "display_name": "Python 3 (ipykernel)",
   "language": "python",
   "name": "python3"
  },
  "language_info": {
   "codemirror_mode": {
    "name": "ipython",
    "version": 3
   },
   "file_extension": ".py",
   "mimetype": "text/x-python",
   "name": "python",
   "nbconvert_exporter": "python",
   "pygments_lexer": "ipython3",
   "version": "3.10.12"
  }
 },
 "nbformat": 4,
 "nbformat_minor": 5
}
